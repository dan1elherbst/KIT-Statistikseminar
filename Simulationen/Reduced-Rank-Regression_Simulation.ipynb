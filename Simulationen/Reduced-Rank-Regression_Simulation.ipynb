{
 "cells": [
  {
   "cell_type": "code",
   "execution_count": 1,
   "metadata": {},
   "outputs": [],
   "source": [
    "import numpy as np\n",
    "import pandas as pd\n",
    "from scipy.linalg import fractional_matrix_power"
   ]
  },
  {
   "cell_type": "code",
   "execution_count": 2,
   "metadata": {},
   "outputs": [],
   "source": [
    "def normalize_matrix(A: np.array) -> np.array:\n",
    "    return (A - A.min(axis=1)[:,None]) / (A.max(axis=1)[:,None] - A.min(axis=1)[:,None])"
   ]
  },
  {
   "cell_type": "code",
   "execution_count": 3,
   "metadata": {},
   "outputs": [],
   "source": [
    "def calculate_mean_and_covariance_matrices(X: np.array, Y: np.array) -> (np.array, np.array, np.array, np.array ,np.array):\n",
    "    assert X.shape[1] == Y.shape[1]\n",
    "    n = X.shape[1]\n",
    "    return np.mean(X, axis=1), np.mean(Y, axis=1), np.dot(X, X.T) / n, np.dot(Y, X.T) / n, np.dot(Y, Y.T) / n"
   ]
  },
  {
   "cell_type": "code",
   "execution_count": 4,
   "metadata": {},
   "outputs": [],
   "source": [
    "def reduced_rank_regression(X: np.array, Y: np.array, Gamma: np.array, t: int) -> (np.array, np.array, np.array, float):\n",
    "    assert t <= Y.shape[0]\n",
    "    assert Y.shape[0] <= X.shape[0]\n",
    "    assert X.shape[1] == Y.shape[1]\n",
    "    assert Gamma.shape == (Y.shape[0], Y.shape[0])\n",
    "    mu_X, mu_Y, Sigma_XX, Sigma_YX, Sigma_YY = calculate_mean_and_covariance_matrices(X, Y)\n",
    "    U, S, _ = np.linalg.svd(np.dot(np.dot(fractional_matrix_power(Gamma, 0.5), Sigma_YX), \n",
    "                                   fractional_matrix_power(Sigma_XX, -0.5)))\n",
    "    C_min = np.dot(np.dot(np.dot(fractional_matrix_power(Gamma, -0.5), np.dot(U[:,0:t], U[:,0:t].T)), \n",
    "                   fractional_matrix_power(Gamma, 0.5)), np.dot(Sigma_YX, np.linalg.inv(Sigma_XX)))\n",
    "    mu_min = mu_Y - np.dot(C_min, mu_X)\n",
    "    min_value = np.trace(Sigma_YY) * np.trace(Gamma) - np.sum(S[0:t])\n",
    "    return mu_min, C_min, S, min_value"
   ]
  },
  {
   "cell_type": "code",
   "execution_count": 5,
   "metadata": {},
   "outputs": [],
   "source": [
    "wine_dataset = pd.read_csv(\"wine_dataset.csv\")"
   ]
  },
  {
   "cell_type": "code",
   "execution_count": 6,
   "metadata": {},
   "outputs": [],
   "source": [
    "X_variables = ['residual sugar', 'chlorides', 'free sulfur dioxide', 'total sulfur dioxide', 'density', 'sulphates', 'alcohol']\n",
    "Y_variables = ['volatile acidity', 'fixed acidity', 'citric acid']\n",
    "X = normalize_matrix(wine_dataset[X_variables].values.T)\n",
    "Y = normalize_matrix(wine_dataset[Y_variables].values.T)"
   ]
  },
  {
   "cell_type": "code",
   "execution_count": 7,
   "metadata": {},
   "outputs": [],
   "source": [
    "rrr_result_values = [reduced_rank_regression(X, Y, np.identity(Y.shape[0]), t) for t in range(Y.shape[0] + 1)]"
   ]
  },
  {
   "cell_type": "code",
   "execution_count": 8,
   "metadata": {},
   "outputs": [
    {
     "data": {
      "text/plain": [
       "array([0.52434289, 0.05664338, 0.04363634])"
      ]
     },
     "execution_count": 8,
     "metadata": {},
     "output_type": "execute_result"
    }
   ],
   "source": [
    "rrr_result_values[Y.shape[0]][2]"
   ]
  },
  {
   "cell_type": "code",
   "execution_count": 9,
   "metadata": {},
   "outputs": [
    {
     "data": {
      "text/plain": [
       "[1.0094633080208752,\n",
       " 0.48512041323496813,\n",
       " 0.42847703212692145,\n",
       " 0.38484069355434214]"
      ]
     },
     "execution_count": 9,
     "metadata": {},
     "output_type": "execute_result"
    }
   ],
   "source": [
    "[result[3] for result in rrr_result_values]"
   ]
  },
  {
   "cell_type": "code",
   "execution_count": 10,
   "metadata": {},
   "outputs": [],
   "source": [
    "import matplotlib.pyplot as plt\n",
    "from mpl_toolkits.mplot3d import *\n",
    "%matplotlib qt"
   ]
  },
  {
   "cell_type": "code",
   "execution_count": 11,
   "metadata": {},
   "outputs": [
    {
     "data": {
      "text/plain": [
       "<mpl_toolkits.mplot3d.art3d.Poly3DCollection at 0x1ba66cb3548>"
      ]
     },
     "execution_count": 11,
     "metadata": {},
     "output_type": "execute_result"
    }
   ],
   "source": [
    "fig = plt.figure()\n",
    "fig.set_size_inches(16, 16)\n",
    "ax = fig.add_subplot(111, projection='3d')\n",
    "ax.set_xlim3d(0, 1)\n",
    "ax.set_ylim3d(0, 1)\n",
    "ax.set_zlim3d(0, 1)\n",
    "ax.invert_xaxis()\n",
    "\n",
    "# Plotte die Datenpunkte\n",
    "xpts, ypts, zpts = Y[0,:], Y[1,:], Y[2,:]\n",
    "ax.scatter(xpts, ypts, zpts, c=np.linalg.norm(Y, axis=0))\n",
    "ax.set_xlabel('x'), ax.set_ylabel('y'), ax.set_zlabel('z')\n",
    "\n",
    "mu_min, C_min, _, _ = rrr_result_values[1]\n",
    "predY = mu_min [:,None] + np.dot(C_min, X)\n",
    "xpts, ypts, zpts = predY[0,:], predY[1,:], predY[2,:]\n",
    "ax.scatter(xpts, ypts, zpts, c='red')\n",
    "\n",
    "mu_min, C_min, _, _ = rrr_result_values[2]\n",
    "predY = mu_min [:,None] + np.dot(C_min, X)\n",
    "xpts, ypts, zpts = predY[0,:], predY[1,:], predY[2,:]\n",
    "ax.scatter(xpts, ypts, zpts, c='black')\n",
    "\n",
    "# Plotte mögliche Werte für die Approximation mit t=2\n",
    "point, C_min, _, _ = rrr_result_values[2]\n",
    "normal = np.cross(C_min[:,0], C_min[:,1])\n",
    "d = -point.dot(normal)\n",
    "xx, yy = np.meshgrid(np.linspace(0, 1, 10), np.linspace(0, 1, 10))\n",
    "z = (-normal[0] * xx - normal[1] * yy - d) / normal[2]\n",
    "ax.plot_surface(xx, yy, z, alpha=0.25)"
   ]
  },
  {
   "cell_type": "code",
   "execution_count": 48,
   "metadata": {},
   "outputs": [
    {
     "data": {
      "text/plain": [
       "array([[ 0.25,  0.  ,  0.25],\n",
       "       [ 0.  ,  0.25,  0.  ],\n",
       "       [ 0.  ,  0.  , -0.25]])"
      ]
     },
     "execution_count": 48,
     "metadata": {},
     "output_type": "execute_result"
    }
   ],
   "source": [
    "X = np.random.normal(0, 0.5, size=(3, 1000))\n",
    "C = 0.25 * np.array([[1, 0, 1],\n",
    "              [0, 1, 0],\n",
    "              [0, 0, -1]])\n",
    "mu = np.array([0.5, 0.5, 0.5])\n",
    "Y = mu[:,None] + np.dot(C, X) + np.random.normal(0, 0.1, size=(3, 1000))\n",
    "C"
   ]
  },
  {
   "cell_type": "code",
   "execution_count": 66,
   "metadata": {},
   "outputs": [],
   "source": [
    "rrr_result_values = [reduced_rank_regression(Y, Y, np.identity(Y.shape[0]), t) for t in range(Y.shape[0] + 1)]"
   ]
  },
  {
   "cell_type": "code",
   "execution_count": 67,
   "metadata": {},
   "outputs": [
    {
     "data": {
      "text/plain": [
       "array([0.88107668, 0.21817979, 0.14172004])"
      ]
     },
     "execution_count": 67,
     "metadata": {},
     "output_type": "execute_result"
    }
   ],
   "source": [
    "rrr_result_values[Y.shape[0]][2]"
   ]
  },
  {
   "cell_type": "code",
   "execution_count": 68,
   "metadata": {},
   "outputs": [
    {
     "data": {
      "text/plain": [
       "[2.5319493122523284,\n",
       " 1.6508726334230586,\n",
       " 1.4326928470444051,\n",
       " 1.2909728028620073]"
      ]
     },
     "execution_count": 68,
     "metadata": {},
     "output_type": "execute_result"
    }
   ],
   "source": [
    "[result[3] for result in rrr_result_values]"
   ]
  },
  {
   "cell_type": "code",
   "execution_count": 69,
   "metadata": {},
   "outputs": [],
   "source": [
    "import matplotlib.pyplot as plt\n",
    "from mpl_toolkits.mplot3d import *\n",
    "%matplotlib qt"
   ]
  },
  {
   "cell_type": "code",
   "execution_count": 70,
   "metadata": {},
   "outputs": [],
   "source": [
    "fig = plt.figure()\n",
    "fig.set_size_inches(8, 8)\n",
    "ax = fig.add_subplot(111, projection='3d')\n",
    "ax.set_xlim3d(0, 1)\n",
    "ax.set_ylim3d(0, 1)\n",
    "ax.set_zlim3d(0, 1)\n",
    "ax.invert_xaxis()\n",
    "\n",
    "# Plotte die Datenpunkte\n",
    "xpts, ypts, zpts = Y[0,:], Y[1,:], Y[2,:]\n",
    "ax.scatter(xpts, ypts, zpts, c=zpts)\n",
    "ax.set_xlabel('x'), ax.set_ylabel('y'), ax.set_zlabel('z')\n",
    "\n",
    "mu_min, C_min, _, _ = rrr_result_values[1]\n",
    "predY = mu_min [:,None] + np.dot(C_min, Y)\n",
    "xpts, ypts, zpts = predY[0,:], predY[1,:], predY[2,:]\n",
    "ax.scatter(xpts, ypts, zpts, c='black')\n",
    "\n",
    "# Plotte mögliche Werte für die Approximation mit t=2\n",
    "# point, C_min, _, _ = rrr_result_values[2]\n",
    "# normal = np.cross(C_min[:,0], C_min[:,1])\n",
    "# d = -point.dot(normal)\n",
    "# xx, yy = np.meshgrid(np.linspace(0, 1, 10), np.linspace(0, 1, 10))\n",
    "# z = (-normal[0] * xx - normal[1] * yy - d) / normal[2]\n",
    "# ax.plot_surface(xx, yy, z, alpha=0.2, color='grey')\n",
    "fig.tight_layout()\n",
    "\n",
    "plt.savefig('Y_Y_1_simulated.png', dpi=200)"
   ]
  },
  {
   "cell_type": "code",
   "execution_count": null,
   "metadata": {},
   "outputs": [],
   "source": []
  }
 ],
 "metadata": {
  "kernelspec": {
   "display_name": "Python 3",
   "language": "python",
   "name": "python3"
  },
  "language_info": {
   "codemirror_mode": {
    "name": "ipython",
    "version": 3
   },
   "file_extension": ".py",
   "mimetype": "text/x-python",
   "name": "python",
   "nbconvert_exporter": "python",
   "pygments_lexer": "ipython3",
   "version": "3.7.6"
  }
 },
 "nbformat": 4,
 "nbformat_minor": 4
}
