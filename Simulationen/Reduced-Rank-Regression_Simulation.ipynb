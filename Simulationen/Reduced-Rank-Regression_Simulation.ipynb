{
 "cells": [
  {
   "cell_type": "code",
   "execution_count": 19,
   "metadata": {},
   "outputs": [],
   "source": [
    "import numpy as np\n",
    "import pandas as pd\n",
    "from scipy.linalg import fractional_matrix_power"
   ]
  },
  {
   "cell_type": "code",
   "execution_count": 20,
   "metadata": {},
   "outputs": [],
   "source": [
    "def normalize_matrix(A: np.array) -> np.array:\n",
    "    return (A - A.min(axis=1)[:,None]) / (A.max(axis=1)[:,None] - A.min(axis=1)[:,None])"
   ]
  },
  {
   "cell_type": "code",
   "execution_count": 21,
   "metadata": {},
   "outputs": [],
   "source": [
    "def calculate_mean_and_covariance_matrices(X: np.array, Y: np.array) -> (np.array, np.array, np.array, np.array ,np.array):\n",
    "    assert X.shape[1] == Y.shape[1]\n",
    "    n = X.shape[1]\n",
    "    mu_X, mu_Y = np.mean(X, axis=1), np.mean(Y, axis=1)\n",
    "    X_c, Y_c = X - mu_X[:, None], Y - mu_Y[:, None]\n",
    "    return mu_X, mu_Y, np.dot(X_c, X_c.T) / n, np.dot(Y_c, X_c.T) / n, np.dot(Y_c, Y_c.T) / n"
   ]
  },
  {
   "cell_type": "code",
   "execution_count": 22,
   "metadata": {},
   "outputs": [],
   "source": [
    "def reduced_rank_regression(X: np.array, Y: np.array, Gamma: np.array, t: int) -> (np.array, np.array, np.array, float):\n",
    "    assert t <= Y.shape[0]\n",
    "    assert Y.shape[0] <= X.shape[0]\n",
    "    assert X.shape[1] == Y.shape[1]\n",
    "    assert Gamma.shape == (Y.shape[0], Y.shape[0])\n",
    "    mu_X, mu_Y, Sigma_XX, Sigma_YX, Sigma_YY = calculate_mean_and_covariance_matrices(X, Y)\n",
    "    U, S, _ = np.linalg.svd(np.dot(np.dot(fractional_matrix_power(Gamma, 0.5), Sigma_YX), \n",
    "                                   fractional_matrix_power(Sigma_XX, -0.5)))\n",
    "    C_min = np.dot(np.dot(np.dot(fractional_matrix_power(Gamma, -0.5), np.dot(U[:,0:t], U[:,0:t].T)), \n",
    "                   fractional_matrix_power(Gamma, 0.5)), np.dot(Sigma_YX, np.linalg.inv(Sigma_XX)))\n",
    "    mu_min = mu_Y - np.dot(C_min, mu_X)\n",
    "    min_value = np.trace(Sigma_YY) * np.trace(Gamma) - np.sum(S[0:t])\n",
    "    return mu_min, C_min, S, min_value"
   ]
  },
  {
   "cell_type": "code",
   "execution_count": 26,
   "metadata": {},
   "outputs": [],
   "source": [
    "wine_dataset = pd.read_csv(\"wine_dataset.csv\")"
   ]
  },
  {
   "cell_type": "code",
   "execution_count": 27,
   "metadata": {},
   "outputs": [],
   "source": [
    "X_variables = ['residual sugar', 'chlorides', 'free sulfur dioxide', 'total sulfur dioxide', 'density', 'sulphates', 'alcohol']\n",
    "Y_variables = ['volatile acidity', 'fixed acidity', 'citric acid']\n",
    "X = normalize_matrix(wine_dataset[X_variables].values.T)\n",
    "Y = normalize_matrix(wine_dataset[Y_variables].values.T)"
   ]
  },
  {
   "cell_type": "code",
   "execution_count": 28,
   "metadata": {},
   "outputs": [
    {
     "data": {
      "text/plain": [
       "(array([ 0.39720737, -0.26818126, -0.33256443]),\n",
       " array([[-0.02181387, -0.04990488,  0.02835088, -0.08233195, -0.03252975,\n",
       "         -0.22928008, -0.1359444 ],\n",
       "        [-0.34801385,  0.12470403, -0.09366844,  0.06023219,  1.05333682,\n",
       "         -0.04370523,  0.39824929],\n",
       "        [-0.20312143,  0.16750855, -0.11083069,  0.17646172,  0.77652181,\n",
       "          0.34625592,  0.49649868]]),\n",
       " array([0.15617356, 0.05126302, 0.0329217 ]),\n",
       " 0.02260760491195482)"
      ]
     },
     "execution_count": 28,
     "metadata": {},
     "output_type": "execute_result"
    }
   ],
   "source": [
    "t = 2\n",
    "rrr_result_values = reduced_rank_regression(X, Y, np.identity(Y.shape[0]), t)\n",
    "rrr_result_values"
   ]
  },
  {
   "cell_type": "code",
   "execution_count": 29,
   "metadata": {},
   "outputs": [],
   "source": [
    "import matplotlib.pyplot as plt\n",
    "from mpl_toolkits.mplot3d import *\n",
    "%matplotlib qt"
   ]
  },
  {
   "cell_type": "code",
   "execution_count": 30,
   "metadata": {},
   "outputs": [],
   "source": [
    "fig = plt.figure()\n",
    "fig.set_size_inches(16, 16)\n",
    "ax = fig.add_subplot(111, projection='3d')\n",
    "ax.set_xlim3d(0, 1)\n",
    "ax.set_ylim3d(0, 1)\n",
    "ax.set_zlim3d(0, 1)\n",
    "ax.invert_xaxis()\n",
    "\n",
    "# Plotte die Datenpunkte\n",
    "xpts, ypts, zpts = Y[0,:], Y[1,:], Y[2,:]\n",
    "ax.scatter(xpts, ypts, zpts, c=zpts)\n",
    "ax.set_xlabel('x'), ax.set_ylabel('y'), ax.set_zlabel('z')\n",
    "\n",
    "mu_min, C_min, _, _ = rrr_result_values\n",
    "predY = mu_min[:,None] + np.dot(C_min, X)\n",
    "xpts, ypts, zpts = predY[0,:], predY[1,:], predY[2,:]\n",
    "ax.scatter(xpts, ypts, zpts, c='black')\n",
    "\n",
    "if t == 2:\n",
    "    # Plotte mögliche Werte für die Approximation mit t=2\n",
    "    point, C_min, _, _ = rrr_result_values\n",
    "    normal = np.cross(C_min[:,0], C_min[:,1])\n",
    "    d = -point.dot(normal)\n",
    "    xx, yy = np.meshgrid(np.linspace(0, 1, 10), np.linspace(0, 1, 10))\n",
    "    z = (-normal[0] * xx - normal[1] * yy - d) / normal[2]\n",
    "    ax.plot_surface(xx, yy, z, alpha=0.25)\n",
    "fig.tight_layout()"
   ]
  },
  {
   "cell_type": "code",
   "execution_count": 23,
   "metadata": {},
   "outputs": [],
   "source": [
    "X = np.random.normal(0, 0.3, size=(3, 1000))\n",
    "C = 0.25 * np.array([[1, 0, 1],\n",
    "                     [0, 1, 0],\n",
    "                     [0, 0, -1]])\n",
    "mu = np.array([0.5, 0.5, 0.5])\n",
    "Y = mu[:,None] + np.dot(C, X) + np.random.normal(0, 0.15, size=(3, 1000))"
   ]
  },
  {
   "cell_type": "code",
   "execution_count": 24,
   "metadata": {},
   "outputs": [
    {
     "data": {
      "text/plain": [
       "(array([0.50488828, 0.49014634, 0.49952944]),\n",
       " array([[ 0.24645582, -0.01865384,  0.24105942],\n",
       "        [-0.01830476,  0.21251471,  0.00748936],\n",
       "        [-0.01795381, -0.017466  , -0.27940704]]),\n",
       " array([0.12361606, 0.06524274, 0.04394684]),\n",
       " 0.030500676791800796)"
      ]
     },
     "execution_count": 24,
     "metadata": {},
     "output_type": "execute_result"
    }
   ],
   "source": [
    "t = 3\n",
    "rrr_result_values = reduced_rank_regression(X, Y, np.identity(Y.shape[0]), t)\n",
    "rrr_result_values"
   ]
  },
  {
   "cell_type": "code",
   "execution_count": 25,
   "metadata": {},
   "outputs": [],
   "source": [
    "import matplotlib.pyplot as plt\n",
    "from mpl_toolkits.mplot3d import *\n",
    "%matplotlib qt"
   ]
  },
  {
   "cell_type": "code",
   "execution_count": 26,
   "metadata": {},
   "outputs": [],
   "source": [
    "fig = plt.figure()\n",
    "fig.set_size_inches(8, 8)\n",
    "ax = fig.add_subplot(111, projection='3d')\n",
    "ax.set_xlim3d(0, 1)\n",
    "ax.set_ylim3d(0, 1)\n",
    "ax.set_zlim3d(0, 1)\n",
    "ax.invert_xaxis()\n",
    "\n",
    "# Plotte die Datenpunkte\n",
    "xpts, ypts, zpts = Y[0,:], Y[1,:], Y[2,:]\n",
    "ax.scatter(xpts, ypts, zpts, c=zpts)\n",
    "ax.set_xlabel('x'), ax.set_ylabel('y'), ax.set_zlabel('z')\n",
    "\n",
    "mu_min, C_min, _, _ = rrr_result_values\n",
    "predY = mu_min[:,None] + np.dot(C_min, X)\n",
    "xpts, ypts, zpts = predY[0,:], predY[1,:], predY[2,:]\n",
    "ax.scatter(xpts, ypts, zpts, c='black')\n",
    "\n",
    "if t == 2:\n",
    "    # Plotte mögliche Werte für die Approximation mit t=2\n",
    "    point, C_min, _, _ = rrr_result_values\n",
    "    normal = np.cross(C_min[:,0], C_min[:,1])\n",
    "    d = -point.dot(normal)\n",
    "    xx, yy = np.meshgrid(np.linspace(0, 1, 10), np.linspace(0, 1, 10))\n",
    "    z = (-normal[0] * xx - normal[1] * yy - d) / normal[2]\n",
    "    ax.plot_surface(xx, yy, z, alpha=0.2, color='grey')\n",
    "fig.tight_layout()\n",
    "\n",
    "plt.savefig('X_Y_{}_simulated.png'.format(t), dpi=200)"
   ]
  },
  {
   "cell_type": "code",
   "execution_count": null,
   "metadata": {},
   "outputs": [],
   "source": []
  }
 ],
 "metadata": {
  "kernelspec": {
   "display_name": "Python 3",
   "language": "python",
   "name": "python3"
  },
  "language_info": {
   "codemirror_mode": {
    "name": "ipython",
    "version": 3
   },
   "file_extension": ".py",
   "mimetype": "text/x-python",
   "name": "python",
   "nbconvert_exporter": "python",
   "pygments_lexer": "ipython3",
   "version": "3.7.6"
  }
 },
 "nbformat": 4,
 "nbformat_minor": 4
}
